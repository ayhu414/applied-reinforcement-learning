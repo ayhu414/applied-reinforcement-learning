{
 "cells": [
  {
   "cell_type": "markdown",
   "id": "1b03f6e2",
   "metadata": {},
   "source": [
    "# Applied reinforcement learning - Final project"
   ]
  },
  {
   "cell_type": "markdown",
   "id": "90ba4fb8",
   "metadata": {},
   "source": [
    "## MENG 25620 "
   ]
  },
  {
   "cell_type": "markdown",
   "id": "47429255",
   "metadata": {},
   "source": [
    "### Daniel Mark, Joe Aulicino, Allen Hu, Achu Menon"
   ]
  },
  {
   "cell_type": "markdown",
   "id": "e996d6ae",
   "metadata": {},
   "source": [
    "Nonsense"
   ]
  },
  {
   "cell_type": "code",
   "execution_count": 1,
   "id": "7cb46d31",
   "metadata": {},
   "outputs": [],
   "source": [
    "%matplotlib inline\n",
    "from matplotlib import pyplot as plt\n",
    "from tensorflow.keras.layers import Dense\n",
    "from tensorflow.keras.optimizers import Adam\n",
    "from tensorflow.keras.models import Sequential\n",
    "from gym.envs.classic_control import CartPoleEnv\n",
    "from rlutils import Agent, enact_policy, evaluate_agent, state_cols\n",
    "from collections import deque\n",
    "import tensorflow as tf\n",
    "from tqdm import tqdm\n",
    "import pandas as pd\n",
    "import numpy as np"
   ]
  },
  {
   "cell_type": "code",
   "execution_count": 111,
   "id": "0d3c1b56",
   "metadata": {},
   "outputs": [],
   "source": [
    "\"\"\"Actions/State\n",
    "\n",
    "\n",
    "        | (0,0) | U/1|  (2,0) |\n",
    "        |L/4    | X  | R/2    |\n",
    "        | (0,2) | D/3| (2,2)  |\n",
    "\"\"\" \n",
    "\n",
    "\n",
    "class BPFEnv():\n",
    "    def __init__(self, n_residues_max, residues):\n",
    "        assert len(residues) <= n_residues_max, \"Invalid Protein\"\n",
    "        # self.hyperparameters = ? may need some here\n",
    "        residues_ = []\n",
    "        for i in range(len(residues)):\n",
    "            if(i < len(residues)):\n",
    "                residues_ += [residues[i]]\n",
    "            else:\n",
    "                residues_ += [0]\n",
    "        self.state = np.array(([0]*(n_residues_max*2 + 1)**2) + residues_ + [n_residues_max, n_residues_max])\n",
    "        self.n_residues_max = n_residues_max\n",
    "        # flat representation of the state\n",
    "    def make_state_pretty(self):\n",
    "        #convert the flat representation of the state into something more easily useable\n",
    "        nrm = self.n_residues_max\n",
    "        grid = self.state[:(2*nrm+1)**2].reshape(2*nrm+1, 2*nrm+1)\n",
    "        residues = self.state[(2*nrm+1)**2:(2*nrm+1)**2+nrm]\n",
    "        pos = [self.state[-2], self.state[-1]]\n",
    "        return [grid, residues, pos]\n",
    "    def state_from_pretty(self, pretty):\n",
    "        grid = pretty[0]\n",
    "        residues = pretty[1]\n",
    "        pos = pretty[2]\n",
    "        state_ = np.concatenate([grid.flatten(), residues], axis=0)\n",
    "        state_ = np.concatenate([state_, pos], axis=0)\n",
    "        self.state = state_\n",
    "        \n",
    "    def increment(self, action):\n",
    "        # double check the move makes sense\n",
    "        assert action in [1,2,3,4], \"Action \" +str(action) + \" is invalid\"\n",
    "        \n",
    "        state_prime = self.make_state_pretty()\n",
    "        board = state_prime[0]\n",
    "        residues = state_prime[1]\n",
    "        position = state_prime[2]\n",
    "        \n",
    "        position[0] += (action % 2 ==0) * (np.sign(3-action)) # i.e. if the action is divisible by 2 (right or left) with appropriate sign\n",
    "        position[1] += (not action%2 == 0) * (np.sign(action-2)) # these lines just move where our cursor is\n",
    "        board[position[0],position[1]] = residues[0] # change board at cursor to leading residues\n",
    "        residues = [residues[i] for i in range(1, len(residues))] + [0] # remove first residue\n",
    "        self.state = np.concatenate([board.flatten(), residues, position], axis=0)\n",
    "    def reset(self):\n",
    "        n_residues_max = self.n_residues_max\n",
    "        residues_ = list(np.random.randint(2,size=n_residues_max)*2 - 1)\n",
    "        self.state = np.array(([0]*(n_residues_max*2 + 1)**2) + residues_ + [n_residues_max, n_residues_max])\n",
    "        return self.state\n",
    "    def compute_energy(self):\n",
    "        state = self.make_state_pretty()\n",
    "        # first attempt at the energy functional\n",
    "        side_of_board_reward = 0\n",
    "        energy = 0\n",
    "        board = state[0]\n",
    "        for k in range(len(board)):\n",
    "            for l in range(len(board[k])):\n",
    "                nbers = [board[i][j] for i in range(k-1, k+2) for j in range(l-1, l+2) if i > -1 and j > -1 and j < len(board[0]) and i < len(board)]\n",
    "                # check the number of like neighbors\n",
    "                energy += np.sum(np.array(nbers).sum() * board[k][l])\n",
    "        return energy\n",
    "                    \n",
    "    def step(self, action):\n",
    "        assert action in [0,1,2,3], \"Action \" +str(action) + \" is invalid\"\n",
    "        action = action+1 # Im stupid and wrote this poorly :)\n",
    "        done = False\n",
    "        reward = 0\n",
    "        old_pretty = self.make_state_pretty()\n",
    "        old_pretty[0] = old_pretty[0].copy()\n",
    "        old_pretty[1] = old_pretty[1].copy()\n",
    "        old_pretty[2] = old_pretty[2].copy()\n",
    "        \n",
    "        self.increment(action)\n",
    "        new_pretty = self.make_state_pretty()\n",
    "        #now we need to implement the rewards\n",
    "        \n",
    "        #SELF - AVOIDING\n",
    "        if(not np.count_nonzero(new_pretty[0]) > np.count_nonzero(old_pretty[0])):\n",
    "            # this means the action overlapped with a previous residue\n",
    "            reward += 0.01\n",
    "            done = True\n",
    "        if(np.count_nonzero(old_pretty[1]) <= 1):\n",
    "            reward += 0.5\n",
    "            done = True #finished protein\n",
    "        #ENERGY \n",
    "        if(not done):\n",
    "            reward += self.compute_energy()\n",
    "        return self.state, reward, done, {}\n",
    "\n",
    "    def show(self):\n",
    "        # display a picture of the current state\n",
    "        state_ = self.make_state_pretty()\n",
    "        x = state_[0]\n",
    "        green = [[i,j] for i in range(len(x)) for j in range(len(x[i])) if x[i][j] == -1]\n",
    "        blue =  [[i,j] for i in range(len(x)) for j in range(len(x[i])) if x[i][j] == 1]\n",
    "        green = np.array(green)\n",
    "        blue = np.array(blue)\n",
    "        plt.scatter(green[:,0],green[:,1],color=\"green\", lw=5)\n",
    "        plt.scatter(blue[:, 0], blue[:, 1],color=\"teal\", lw=5)\n",
    "        plt.xlim(0,self.n_residues_max*2 +1)\n",
    "        plt.ylim(0,self.n_residues_max*2 +1)\n",
    "        plt.grid()\n",
    "        "
   ]
  },
  {
   "cell_type": "code",
   "execution_count": 112,
   "id": "e97dc1f2",
   "metadata": {},
   "outputs": [],
   "source": [
    "env = BPFEnv(10, [-1,1,-1,1,1,-1,-1,-1,1,1])\n"
   ]
  },
  {
   "cell_type": "code",
   "execution_count": 113,
   "id": "a19feab8",
   "metadata": {},
   "outputs": [],
   "source": [
    "class DQNAgent(Agent):\n",
    "    \"\"\"An agent trained using DQN\"\"\"\n",
    "    \n",
    "    def __init__(self, gamma=0.9, epsilon=0.75, epsilon_decay=0.01, epsilon_min=0.1):\n",
    "        \"\"\"\n",
    "        Args:\n",
    "            gamma: Discount rate for future rewards\n",
    "            epsilon: Exploration value\n",
    "            epsilon_decay: How much we decay the rewards after each update\n",
    "        \"\"\"\n",
    "        self.gamma = gamma\n",
    "        self.epsilon = epsilon\n",
    "        self.epsilon_decay = epsilon_decay\n",
    "        self.epsilon_min = epsilon_min\n",
    "        \n",
    "        # Make a model that predicts the value of a move and actions\n",
    "        self.q_function = self.make_q_function()\n",
    "        self.q_function.compile(loss='mse', optimizer='adam')\n",
    "        \n",
    "        # Memory for all observed moves\n",
    "        self.memory = pd.DataFrame()\n",
    "        self.max_memory = 2048\n",
    "        \n",
    "    def make_q_function(self):\n",
    "        \"\"\"Generate a Q-function that computes the value of both actions given state\"\"\"\n",
    "        return Sequential([\n",
    "            Dense(128, activation='relu', input_shape=(453,)),\n",
    "            Dense(64, activation='relu', input_shape=(4,)),\n",
    "            Dense(2, activation='linear')\n",
    "        ])\n",
    "    \n",
    "    def get_action(self, state):       \n",
    "        if np.random.random() < self.epsilon:\n",
    "            # Choose action randomly\n",
    "            return np.random.randint(0,4)\n",
    "        else:\n",
    "            # Compute the value of each move\n",
    "            q_values = self.q_function.predict(state[np.newaxis, :])[0]\n",
    "            # Pick the best value\n",
    "            return np.argmax(q_values)\n",
    "    \n",
    "    def train(self, states):\n",
    "        # Compute the next state for each state\n",
    "        #  Numpy roll rotates the array from [1, ... N] to [2, ... N, 1]\n",
    "        next_state_cols = []  # Stores the columns in the DataFrame that involve refitting the \n",
    "        for c in state_cols:\n",
    "            next_state_cols.append(f'next_{c}')\n",
    "            states[f'next_{c}'] = np.roll(states[c], -1)\n",
    "        \n",
    "        # Add new states to the memory\n",
    "        self.memory = pd.concat([self.memory, states])\n",
    "        \n",
    "        # If needed, sample fewer points from the memory to keep it from becoming too big\n",
    "        if len(self.memory) > self.max_memory:\n",
    "            self.memory = self.memory.sample(self.max_memory)\n",
    "        \n",
    "        # Get compute the Q value for the next state\n",
    "        #  The value is zero for the last point because there is no next state\n",
    "        q_value_next = np.max(self.q_function.predict(self.memory[next_state_cols].values), axis=1)\n",
    "        q_value_next = np.where(self.memory['done'], 0, q_value_next)\n",
    "        \n",
    "        # Compute the target Q-values\n",
    "        q_target = self.memory['reward'].values + self.gamma * q_value_next\n",
    "        \n",
    "        # Save the old weights\n",
    "        self.q_function.fit(self.memory[state_cols].values, q_target, shuffle=True, batch_size=32, verbose=False)\n",
    "        \n",
    "        # Last step, make the algorithm more greedy\n",
    "        self.epsilon *= (1 - self.epsilon_decay)\n",
    "        self.epsilon = max(self.epsilon, self.epsilon_min)\n",
    "        return \n",
    "agent = DQNAgent()"
   ]
  },
  {
   "cell_type": "code",
   "execution_count": 114,
   "id": "4400ec81",
   "metadata": {},
   "outputs": [
    {
     "name": "stderr",
     "output_type": "stream",
     "text": [
      "  0%|                                                                                          | 0/1024 [00:00<?, ?it/s]/home/jaulicino/anaconda3/envs/molRL/lib/python3.7/site-packages/ipykernel_launcher.py:48: PerformanceWarning: DataFrame is highly fragmented.  This is usually the result of calling `frame.insert` many times, which has poor performance.  Consider joining all columns at once using pd.concat(axis=1) instead.  To get a de-fragmented frame, use `newframe = frame.copy()`\n",
      "                                                                                                                        \r"
     ]
    }
   ],
   "source": [
    "dqn_results = evaluate_agent(env, agent, 1024)"
   ]
  },
  {
   "cell_type": "code",
   "execution_count": 120,
   "id": "c0c5b103",
   "metadata": {},
   "outputs": [
    {
     "data": {
      "text/plain": [
       "<matplotlib.collections.PathCollection at 0x7f0b70331390>"
      ]
     },
     "execution_count": 120,
     "metadata": {},
     "output_type": "execute_result"
    },
    {
     "data": {
      "image/png": "[encoded data removed]",
      "text/plain": [
       "<Figure size 432x288 with 1 Axes>"
      ]
     },
     "metadata": {
      "needs_background": "light"
     },
     "output_type": "display_data"
    }
   ],
   "source": [
    "plt.scatter(dqn_results[\"episode\"], dqn_results[\"length\"])\n",
    "# it does not seem to learn self-avoiding lol facepalm agh"
   ]
  },
  {
   "cell_type": "code",
   "execution_count": null,
   "id": "bac8174c",
   "metadata": {},
   "outputs": [],
   "source": []
  }
 ],
 "metadata": {
  "kernelspec": {
   "display_name": "Python 3 (ipykernel)",
   "language": "python",
   "name": "python3"
  },
  "language_info": {
   "codemirror_mode": {
    "name": "ipython",
    "version": 3
   },
   "file_extension": ".py",
   "mimetype": "text/x-python",
   "name": "python",
   "nbconvert_exporter": "python",
   "pygments_lexer": "ipython3",
   "version": "3.7.11"
  }
 },
 "nbformat": 4,
 "nbformat_minor": 5
}
